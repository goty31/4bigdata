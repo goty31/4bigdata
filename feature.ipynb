{
 "cells": [
  {
   "cell_type": "code",
   "execution_count": 2,
   "metadata": {
    "collapsed": true
   },
   "outputs": [],
   "source": [
    "import pandas as pd\n",
    "import numpy as np\n",
    "import matplotlib.pyplot as plt\n",
    "import seaborn as sns\n",
    "from sklearn.metrics import mean_squared_error\n",
    "import math\n",
    "%matplotlib inline\n",
    "import inspect\n",
    "import csv\n",
    "import os\n",
    "import pandas.tseries.offsets as offsets"
   ]
  },
  {
   "cell_type": "code",
   "execution_count": 4,
   "metadata": {
    "collapsed": true
   },
   "outputs": [],
   "source": [
    "os.chdir('./trackC')"
   ]
  },
  {
   "cell_type": "code",
   "execution_count": 6,
   "metadata": {},
   "outputs": [
    {
     "data": {
      "text/html": [
       "<div>\n",
       "<style>\n",
       "    .dataframe thead tr:only-child th {\n",
       "        text-align: right;\n",
       "    }\n",
       "\n",
       "    .dataframe thead th {\n",
       "        text-align: left;\n",
       "    }\n",
       "\n",
       "    .dataframe tbody tr th {\n",
       "        vertical-align: top;\n",
       "    }\n",
       "</style>\n",
       "<table border=\"1\" class=\"dataframe\">\n",
       "  <thead>\n",
       "    <tr style=\"text-align: right;\">\n",
       "      <th></th>\n",
       "      <th>date</th>\n",
       "      <th>kilo</th>\n",
       "      <th>高低左</th>\n",
       "    </tr>\n",
       "  </thead>\n",
       "  <tbody>\n",
       "    <tr>\n",
       "      <th>0</th>\n",
       "      <td>2017-04-01</td>\n",
       "      <td>10000</td>\n",
       "      <td>2.78</td>\n",
       "    </tr>\n",
       "    <tr>\n",
       "      <th>1</th>\n",
       "      <td>2017-04-02</td>\n",
       "      <td>10000</td>\n",
       "      <td>2.06</td>\n",
       "    </tr>\n",
       "    <tr>\n",
       "      <th>2</th>\n",
       "      <td>2017-04-03</td>\n",
       "      <td>10000</td>\n",
       "      <td>2.50</td>\n",
       "    </tr>\n",
       "    <tr>\n",
       "      <th>3</th>\n",
       "      <td>2017-04-04</td>\n",
       "      <td>10000</td>\n",
       "      <td>3.02</td>\n",
       "    </tr>\n",
       "    <tr>\n",
       "      <th>4</th>\n",
       "      <td>2017-04-05</td>\n",
       "      <td>10000</td>\n",
       "      <td>NaN</td>\n",
       "    </tr>\n",
       "  </tbody>\n",
       "</table>\n",
       "</div>"
      ],
      "text/plain": [
       "         date   kilo   高低左\n",
       "0  2017-04-01  10000  2.78\n",
       "1  2017-04-02  10000  2.06\n",
       "2  2017-04-03  10000  2.50\n",
       "3  2017-04-04  10000  3.02\n",
       "4  2017-04-05  10000   NaN"
      ]
     },
     "execution_count": 6,
     "metadata": {},
     "output_type": "execute_result"
    }
   ],
   "source": [
    "df = pd.read_csv('trackC_10000.csv', encoding='cp932')\n",
    "df.head()"
   ]
  },
  {
   "cell_type": "code",
   "execution_count": 7,
   "metadata": {
    "collapsed": true
   },
   "outputs": [],
   "source": [
    "width = 2\n",
    "lag = 5\n",
    "#target = 10015\n",
    "\n",
    "for i in range(10002, 65681):\n",
    "    read_kilo = list(range(i-width,i+width+1))\n",
    "    data = pd.DataFrame()\n",
    "    for kilo in read_kilo:\n",
    "        data[str(kilo)] = pd.read_csv(\"trackC_\"+str(kilo)+\".csv\", encoding='cp932')[\"高低左\"]\n",
    "    data.index = pd.to_datetime(pd.read_csv(\"trackC_\"+str(kilo)+\".csv\", encoding='cp932')[\"date\"])\n",
    "    \n",
    "    feature = pd.DataFrame()\n",
    "    for l in list(range(1,lag+1)):\n",
    "        for kilo in read_kilo:\n",
    "            feature.loc[:,str(kilo) + \"lag\"+str(l)] = data[str(kilo)].shift(-(lag-l))\n",
    "    feature.loc[:,\"y\"] = data[str(i)].shift(-lag-1)\n",
    "    feature.index = feature.index + offsets.Day(lag+1)\n",
    "    feature.to_csv('C:/Users/Dragon2/Downloads/featureC/featureC_%d.csv'%i, index=None)"
   ]
  },
  {
   "cell_type": "code",
   "execution_count": null,
   "metadata": {
    "collapsed": true
   },
   "outputs": [],
   "source": [
    "d[i].to_csv('C:/Users/Dragon2/Downloads/trackA/trackA_%d.csv'%i, index=None)"
   ]
  }
 ],
 "metadata": {
  "kernelspec": {
   "display_name": "Python 3",
   "language": "python",
   "name": "python3"
  },
  "language_info": {
   "codemirror_mode": {
    "name": "ipython",
    "version": 3
   },
   "file_extension": ".py",
   "mimetype": "text/x-python",
   "name": "python",
   "nbconvert_exporter": "python",
   "pygments_lexer": "ipython3",
   "version": "3.6.3"
  }
 },
 "nbformat": 4,
 "nbformat_minor": 2
}
